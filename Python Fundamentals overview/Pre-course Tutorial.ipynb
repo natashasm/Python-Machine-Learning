{
 "cells": [
  {
   "cell_type": "markdown",
   "metadata": {},
   "source": [
    "# Pre-course Tutorial"
   ]
  },
  {
   "cell_type": "markdown",
   "metadata": {},
   "source": [
    "Welcome to this first tutorial and also the first *Juypter Notebook* of this course! Notebooks allow you to create and share documents that contain programming code, equations, visualizations, and explanatory text. They have been very popular for data cleaning and transformation, numerical simulation, statistical modeling, machine learning and much more. This Notebook will test the Python setup on your laptop.\n",
    "\n",
    "Below are different pieces of Python code. They are written in *cells* which you can execute on your computer. You can run the Notebook step-by-step (one cell at a time) by clicking on a particular cell and pressing **Shift + Enter**. You can also run the whole notebook (all cells) in a single step by clicking on **Cell -> Run All** in the menu.\n",
    "\n",
    "To restart the Notebook Kernel (i.e., the computational engine behind this document), click on the **Kernel -> Restart** in the menu. This can be useful to start over a computation from scratch (e.g., variables are deleted, open files are closed, etc.).\n",
    "\n",
    "Click on **Help -> User Interface Tour** for an overview of the Jupyter Notebook App user interface.\n",
    "\n",
    "During the course, we will use a number of powerful *libraries* which will help us perform effective data analyses. You can think of them as *add-ons* that we can add to the plain Python installation (similarly to what plugins are in Microsoft Excel).\n",
    "\n",
    "Let's walk through the following cells to make sure your computer is configured correctly."
   ]
  },
  {
   "cell_type": "markdown",
   "metadata": {},
   "source": [
    "### Import Libraries\n",
    "\n",
    "Run the following code to import a few libraries (highlight next cell and press **Shift + Enter**, this may take a few seconds if you are running this code for the first time):"
   ]
  },
  {
   "cell_type": "code",
   "execution_count": null,
   "metadata": {
    "collapsed": false
   },
   "outputs": [],
   "source": [
    "import pandas as pd\n",
    "import numpy as np\n",
    "import matplotlib.pyplot as plt\n",
    "import sklearn\n",
    "import scipy\n",
    "import random\n",
    "\n",
    "%matplotlib inline\n",
    "\n",
    "print \"Libraries imported successfully!\""
   ]
  },
  {
   "cell_type": "markdown",
   "metadata": {},
   "source": [
    "Did the script produce \"Libraries import successfully!\"? A new line should have appeared right above this text. If this worked, your computer is configured correctly. If you received an error message, please make sure that Anaconda is configured correctly on your computer. You can refer to the pre-course installation instructions for more information. If you have any questions on this procedure, do not hesitate to contact us at <support@cognitir.com>."
   ]
  },
  {
   "cell_type": "markdown",
   "metadata": {},
   "source": [
    "### Creating a First Plot"
   ]
  },
  {
   "cell_type": "markdown",
   "metadata": {},
   "source": [
    "When assessing and interpreting data science results, we rely heavily on visualizations. To begin with, let's generate a random walk and display the result on the screen.\n",
    "\n",
    "Run the following script to create a small random dataset (don't worry if this doesn't make sense at this point):"
   ]
  },
  {
   "cell_type": "code",
   "execution_count": null,
   "metadata": {
    "collapsed": false
   },
   "outputs": [],
   "source": [
    "# Starting position\n",
    "position = 0\n",
    "\n",
    "# Keep track of my positions\n",
    "walk = [position]\n",
    "\n",
    "# How many steps do I want to walk?\n",
    "nsteps = 1000\n",
    "\n",
    "# Do the walk\n",
    "for i in range(nsteps):\n",
    "\tstep = 1 if random.randint(0, 1) else -1\n",
    "\tposition += step\n",
    "\twalk.append(position)\n",
    "    \n",
    "print \"Data created!\""
   ]
  },
  {
   "cell_type": "markdown",
   "metadata": {},
   "source": [
    "Did the script above output \"Data created!\"? A new line should have appeared above this line.\n",
    "\n",
    "Now, execute the following code to visualize the data on your screen:"
   ]
  },
  {
   "cell_type": "code",
   "execution_count": null,
   "metadata": {
    "collapsed": false
   },
   "outputs": [],
   "source": [
    "plt.plot(walk)\n",
    "plt.show()"
   ]
  },
  {
   "cell_type": "markdown",
   "metadata": {},
   "source": [
    "Did the plot appear above this line? If it did, well done! You have just generated your first visualization using Python. You can execute the last two code cells again (highlight and **Shift + Enter**) to generate another random walk.\n",
    "\n",
    "If nothing showed up, try to run this Notebook again from the beginning (**Kernel -> Restart & Run All**). If it still doesn't work, please reach out to us at <support@cognitir.com>. We would be more than happy to help!\n",
    "\n",
    "This is the end of this first tutorial. We will be working with Jupyter Notebooks throughout the upcoming course. You can read more about them in the **Help** menu above or on <http://jupyter.org/>."
   ]
  }
 ],
 "metadata": {
  "kernelspec": {
   "display_name": "Python [default]",
   "language": "python",
   "name": "python2"
  },
  "language_info": {
   "codemirror_mode": {
    "name": "ipython",
    "version": 2
   },
   "file_extension": ".py",
   "mimetype": "text/x-python",
   "name": "python",
   "nbconvert_exporter": "python",
   "pygments_lexer": "ipython2",
   "version": "2.7.12"
  }
 },
 "nbformat": 4,
 "nbformat_minor": 0
}
